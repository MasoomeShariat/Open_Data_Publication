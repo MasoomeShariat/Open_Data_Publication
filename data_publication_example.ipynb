{
 "cells": [
  {
   "cell_type": "markdown",
   "metadata": {},
   "source": [
    "# Open Data Publication Example"
   ]
  },
  {
   "cell_type": "code",
   "execution_count": null,
   "metadata": {},
   "outputs": [],
   "source": [
    "!pip install wget\n",
    "!pip install pandas\n",
    "!pip install openpyxl\n",
    "!pip install folium"
   ]
  },
  {
   "cell_type": "markdown",
   "metadata": {},
   "source": [
    "Steps:\n",
    "- Create data folder (check to create the folder if it does not exist)\n",
    "- Download data from web to the folder (if the file was not downloaded before)\n",
    "- Read the data using Pandas"
   ]
  },
  {
   "cell_type": "markdown",
   "metadata": {},
   "source": [
    "## Download data\n",
    "\n",
    "First we create data folder"
   ]
  },
  {
   "cell_type": "code",
   "execution_count": null,
   "metadata": {},
   "outputs": [],
   "source": [
    "import os\n",
    "path = \"data\"\n",
    "if not os.path.exists(path):\n",
    "  os.makedirs(path)\n",
    "  print(f\"{path} directory was created!\")"
   ]
  },
  {
   "cell_type": "markdown",
   "metadata": {},
   "source": [
    "Download data to the folder"
   ]
  },
  {
   "cell_type": "code",
   "execution_count": null,
   "metadata": {},
   "outputs": [],
   "source": [
    "from pydoc import resolve\n",
    "from urllib import response\n",
    "import requests\n",
    "import re\n",
    "import os\n",
    "\n",
    "def get_filename_from_cd(cd):\n",
    "    \"\"\"\n",
    "    Get filename from content-disposition\n",
    "    \"\"\"\n",
    "    if not cd:\n",
    "        return None\n",
    "    fname = re.findall('filename=(.+)', cd)\n",
    "    if len(fname) == 0:\n",
    "        return None\n",
    "    return fname[0]\n",
    "\n",
    "doi = 'doi:10.5061/dryad.0262m'.replace(\":\", '%3A').replace('/', '%2F')\n",
    "api_url = \"https://datadryad.org/api/v2/\"\n",
    "request_url = f\"{api_url}datasets/{doi}/download\"\n",
    "\n",
    "print(\"Sending request to:\", api_url)\n",
    "response = requests.get(request_url)\n",
    "status_code = response.status_code\n",
    "print(f\"Response status: {status_code}\")\n",
    "if (status_code == 200):\n",
    "    print(\"Dataset was retrieved successfully!\")\n",
    "    filename = get_filename_from_cd(response.headers.get('content-disposition'))\n",
    "    open(os.path.join(path, filename) , 'wb').write(response.content)\n",
    "    print(f\"Dataset address: {os.path.join(path, filename)}\")\n",
    "else:\n",
    "    print(\"Dataset not found.\")"
   ]
  },
  {
   "cell_type": "markdown",
   "metadata": {},
   "source": [
    "Unzipping the file"
   ]
  },
  {
   "cell_type": "code",
   "execution_count": null,
   "metadata": {},
   "outputs": [],
   "source": [
    "import zipfile\n",
    "\n",
    "Zip_path = os.path.join(path, filename)\n",
    "with zipfile.ZipFile(Zip_path, 'r') as zip_ref:\n",
    "    zip_ref.extractall(path)\n",
    "\n"
   ]
  },
  {
   "cell_type": "markdown",
   "metadata": {},
   "source": [
    "Read the file"
   ]
  },
  {
   "cell_type": "code",
   "execution_count": null,
   "metadata": {},
   "outputs": [],
   "source": [
    "import pandas as pd\n",
    "from pandas import read_excel\n",
    "FilePath = os.path.join(path, \"Lilac Honeysuckle 1956-2014 leafing and flowering phenology v13.xlsx\")\n",
    "Lilac = read_excel(FilePath , sheet_name= \"observation_data\")\n",
    "Lilac_subset = Lilac.head()"
   ]
  },
  {
   "cell_type": "markdown",
   "metadata": {},
   "source": [
    "## Data Visualization"
   ]
  },
  {
   "cell_type": "code",
   "execution_count": null,
   "metadata": {},
   "outputs": [],
   "source": [
    "import folium\n",
    "\n",
    "map = folium.Map(location=[Lilac_subset.Latitude.mean(), Lilac_subset.Longitude.mean()], zoom_start=14, control_scale=True)\n",
    "for index, location_info in Lilac_subset.iterrows():\n",
    "    folium.Marker([location_info[\"Latitude\"], location_info[\"Longitude\"]], popup=location_info[\"Site_Name\"]).add_to(map)\n",
    "\n",
    "map\n"
   ]
  }
 ],
 "metadata": {
  "interpreter": {
   "hash": "0e1e7f124823c834940fd945f5386a9c14d11eced362e324abec9bcd32f4a38e"
  },
  "kernelspec": {
   "display_name": "Python 3.9.12 ('base')",
   "language": "python",
   "name": "python3"
  },
  "language_info": {
   "codemirror_mode": {
    "name": "ipython",
    "version": 3
   },
   "file_extension": ".py",
   "mimetype": "text/x-python",
   "name": "python",
   "nbconvert_exporter": "python",
   "pygments_lexer": "ipython3",
   "version": "3.9.12"
  },
  "orig_nbformat": 4
 },
 "nbformat": 4,
 "nbformat_minor": 2
}
